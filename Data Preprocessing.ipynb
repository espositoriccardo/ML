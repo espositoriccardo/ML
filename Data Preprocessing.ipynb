{
 "cells": [
  {
   "cell_type": "markdown",
   "id": "8495a9ae",
   "metadata": {},
   "source": [
    "# Data Preprocessing"
   ]
  },
  {
   "cell_type": "markdown",
   "id": "9faa1841",
   "metadata": {},
   "source": [
    "In this notebook we perform some preprocessing to the raw dataset in order to set it ready for a further, more advanced analysis and forecasting."
   ]
  },
  {
   "cell_type": "markdown",
   "id": "a73205d5",
   "metadata": {},
   "source": [
    "### Importing libraries and dataset"
   ]
  },
  {
   "cell_type": "code",
   "execution_count": 1,
   "id": "429a466f",
   "metadata": {},
   "outputs": [],
   "source": [
    "# Import pandas\n",
    "import pandas as pd"
   ]
  },
  {
   "cell_type": "code",
   "execution_count": 2,
   "id": "8154013c",
   "metadata": {},
   "outputs": [
    {
     "data": {
      "text/html": [
       "<div>\n",
       "<style scoped>\n",
       "    .dataframe tbody tr th:only-of-type {\n",
       "        vertical-align: middle;\n",
       "    }\n",
       "\n",
       "    .dataframe tbody tr th {\n",
       "        vertical-align: top;\n",
       "    }\n",
       "\n",
       "    .dataframe thead th {\n",
       "        text-align: right;\n",
       "    }\n",
       "</style>\n",
       "<table border=\"1\" class=\"dataframe\">\n",
       "  <thead>\n",
       "    <tr style=\"text-align: right;\">\n",
       "      <th></th>\n",
       "      <th>product</th>\n",
       "      <th>date</th>\n",
       "      <th>customer</th>\n",
       "      <th>country</th>\n",
       "      <th>sales</th>\n",
       "    </tr>\n",
       "  </thead>\n",
       "  <tbody>\n",
       "    <tr>\n",
       "      <th>0</th>\n",
       "      <td>85123A</td>\n",
       "      <td>2016-12-01</td>\n",
       "      <td>17850</td>\n",
       "      <td>United Kingdom</td>\n",
       "      <td>15.30</td>\n",
       "    </tr>\n",
       "    <tr>\n",
       "      <th>1</th>\n",
       "      <td>71053</td>\n",
       "      <td>2016-12-01</td>\n",
       "      <td>17850</td>\n",
       "      <td>United Kingdom</td>\n",
       "      <td>20.34</td>\n",
       "    </tr>\n",
       "    <tr>\n",
       "      <th>2</th>\n",
       "      <td>84406B</td>\n",
       "      <td>2016-12-01</td>\n",
       "      <td>17850</td>\n",
       "      <td>United Kingdom</td>\n",
       "      <td>22.00</td>\n",
       "    </tr>\n",
       "    <tr>\n",
       "      <th>3</th>\n",
       "      <td>84029G</td>\n",
       "      <td>2016-12-01</td>\n",
       "      <td>17850</td>\n",
       "      <td>United Kingdom</td>\n",
       "      <td>20.34</td>\n",
       "    </tr>\n",
       "    <tr>\n",
       "      <th>4</th>\n",
       "      <td>84029E</td>\n",
       "      <td>2016-12-01</td>\n",
       "      <td>17850</td>\n",
       "      <td>United Kingdom</td>\n",
       "      <td>20.34</td>\n",
       "    </tr>\n",
       "  </tbody>\n",
       "</table>\n",
       "</div>"
      ],
      "text/plain": [
       "  product        date  customer         country  sales\n",
       "0  85123A  2016-12-01     17850  United Kingdom  15.30\n",
       "1   71053  2016-12-01     17850  United Kingdom  20.34\n",
       "2  84406B  2016-12-01     17850  United Kingdom  22.00\n",
       "3  84029G  2016-12-01     17850  United Kingdom  20.34\n",
       "4  84029E  2016-12-01     17850  United Kingdom  20.34"
      ]
     },
     "execution_count": 2,
     "metadata": {},
     "output_type": "execute_result"
    }
   ],
   "source": [
    "# Load dataset into dataframe\n",
    "df_sales = pd.read_csv('Sales.csv')\n",
    "df_sales.head()"
   ]
  },
  {
   "cell_type": "code",
   "execution_count": 3,
   "id": "d0b74716",
   "metadata": {},
   "outputs": [
    {
     "data": {
      "text/html": [
       "<div>\n",
       "<style scoped>\n",
       "    .dataframe tbody tr th:only-of-type {\n",
       "        vertical-align: middle;\n",
       "    }\n",
       "\n",
       "    .dataframe tbody tr th {\n",
       "        vertical-align: top;\n",
       "    }\n",
       "\n",
       "    .dataframe thead th {\n",
       "        text-align: right;\n",
       "    }\n",
       "</style>\n",
       "<table border=\"1\" class=\"dataframe\">\n",
       "  <thead>\n",
       "    <tr style=\"text-align: right;\">\n",
       "      <th></th>\n",
       "      <th>customer</th>\n",
       "      <th>sales</th>\n",
       "    </tr>\n",
       "  </thead>\n",
       "  <tbody>\n",
       "    <tr>\n",
       "      <th>count</th>\n",
       "      <td>406829.000000</td>\n",
       "      <td>406829.000000</td>\n",
       "    </tr>\n",
       "    <tr>\n",
       "      <th>mean</th>\n",
       "      <td>15287.690570</td>\n",
       "      <td>20.401854</td>\n",
       "    </tr>\n",
       "    <tr>\n",
       "      <th>std</th>\n",
       "      <td>1713.600303</td>\n",
       "      <td>427.591718</td>\n",
       "    </tr>\n",
       "    <tr>\n",
       "      <th>min</th>\n",
       "      <td>12346.000000</td>\n",
       "      <td>-168469.600000</td>\n",
       "    </tr>\n",
       "    <tr>\n",
       "      <th>25%</th>\n",
       "      <td>13953.000000</td>\n",
       "      <td>4.200000</td>\n",
       "    </tr>\n",
       "    <tr>\n",
       "      <th>50%</th>\n",
       "      <td>15152.000000</td>\n",
       "      <td>11.100000</td>\n",
       "    </tr>\n",
       "    <tr>\n",
       "      <th>75%</th>\n",
       "      <td>16791.000000</td>\n",
       "      <td>19.500000</td>\n",
       "    </tr>\n",
       "    <tr>\n",
       "      <th>max</th>\n",
       "      <td>18287.000000</td>\n",
       "      <td>168469.600000</td>\n",
       "    </tr>\n",
       "  </tbody>\n",
       "</table>\n",
       "</div>"
      ],
      "text/plain": [
       "            customer          sales\n",
       "count  406829.000000  406829.000000\n",
       "mean    15287.690570      20.401854\n",
       "std      1713.600303     427.591718\n",
       "min     12346.000000 -168469.600000\n",
       "25%     13953.000000       4.200000\n",
       "50%     15152.000000      11.100000\n",
       "75%     16791.000000      19.500000\n",
       "max     18287.000000  168469.600000"
      ]
     },
     "execution_count": 3,
     "metadata": {},
     "output_type": "execute_result"
    }
   ],
   "source": [
    "# Visualize data statistics\n",
    "df_sales.describe()"
   ]
  },
  {
   "cell_type": "markdown",
   "id": "b9f1ce1a",
   "metadata": {},
   "source": [
    "### Analizing and Preprocessing the data"
   ]
  },
  {
   "cell_type": "code",
   "execution_count": 4,
   "id": "b734a8b7",
   "metadata": {},
   "outputs": [
    {
     "data": {
      "text/plain": [
       "str"
      ]
     },
     "execution_count": 4,
     "metadata": {},
     "output_type": "execute_result"
    }
   ],
   "source": [
    "# Check 'date' datatype\n",
    "type(df_sales.date[0])"
   ]
  },
  {
   "cell_type": "code",
   "execution_count": 5,
   "id": "84a702f5",
   "metadata": {},
   "outputs": [
    {
     "data": {
      "text/plain": [
       "pandas._libs.tslibs.timestamps.Timestamp"
      ]
     },
     "execution_count": 5,
     "metadata": {},
     "output_type": "execute_result"
    }
   ],
   "source": [
    "# Cast 'date' to datetime\n",
    "df_sales.date = pd.to_datetime(df_sales.date, format='%Y-%m-%d')\n",
    "type(df_sales.date[0])"
   ]
  },
  {
   "cell_type": "code",
   "execution_count": 6,
   "id": "5e6dd0b9",
   "metadata": {},
   "outputs": [],
   "source": [
    "# Eliminate duplicate values\n",
    "df_sales = df_sales.drop_duplicates(subset=None, keep='first', inplace=False)"
   ]
  },
  {
   "cell_type": "code",
   "execution_count": 7,
   "id": "a3aa1967",
   "metadata": {},
   "outputs": [],
   "source": [
    "# Apply some filtering to obtain a one-year dataset\n",
    "start_date = \"2016-12-01\"\n",
    "end_date = \"2017-11-30\"\n",
    "\n",
    "after_start_date = df_sales[\"date\"] >= start_date\n",
    "before_end_date = df_sales[\"date\"] <= end_date\n",
    "between_two_dates = after_start_date & before_end_date\n",
    "\n",
    "df_sales = df_sales.loc[between_two_dates]"
   ]
  },
  {
   "cell_type": "code",
   "execution_count": 8,
   "id": "21dad531",
   "metadata": {},
   "outputs": [
    {
     "data": {
      "text/html": [
       "<div>\n",
       "<style scoped>\n",
       "    .dataframe tbody tr th:only-of-type {\n",
       "        vertical-align: middle;\n",
       "    }\n",
       "\n",
       "    .dataframe tbody tr th {\n",
       "        vertical-align: top;\n",
       "    }\n",
       "\n",
       "    .dataframe thead th {\n",
       "        text-align: right;\n",
       "    }\n",
       "</style>\n",
       "<table border=\"1\" class=\"dataframe\">\n",
       "  <thead>\n",
       "    <tr style=\"text-align: right;\">\n",
       "      <th></th>\n",
       "      <th>customer</th>\n",
       "      <th>sales</th>\n",
       "    </tr>\n",
       "  </thead>\n",
       "  <tbody>\n",
       "    <tr>\n",
       "      <th>count</th>\n",
       "      <td>382785.000000</td>\n",
       "      <td>382785.000000</td>\n",
       "    </tr>\n",
       "    <tr>\n",
       "      <th>mean</th>\n",
       "      <td>15278.340314</td>\n",
       "      <td>20.598134</td>\n",
       "    </tr>\n",
       "    <tr>\n",
       "      <th>std</th>\n",
       "      <td>1712.037074</td>\n",
       "      <td>213.569099</td>\n",
       "    </tr>\n",
       "    <tr>\n",
       "      <th>min</th>\n",
       "      <td>12346.000000</td>\n",
       "      <td>-77183.600000</td>\n",
       "    </tr>\n",
       "    <tr>\n",
       "      <th>25%</th>\n",
       "      <td>13931.000000</td>\n",
       "      <td>4.250000</td>\n",
       "    </tr>\n",
       "    <tr>\n",
       "      <th>50%</th>\n",
       "      <td>15147.000000</td>\n",
       "      <td>11.700000</td>\n",
       "    </tr>\n",
       "    <tr>\n",
       "      <th>75%</th>\n",
       "      <td>16778.000000</td>\n",
       "      <td>19.800000</td>\n",
       "    </tr>\n",
       "    <tr>\n",
       "      <th>max</th>\n",
       "      <td>18287.000000</td>\n",
       "      <td>77183.600000</td>\n",
       "    </tr>\n",
       "  </tbody>\n",
       "</table>\n",
       "</div>"
      ],
      "text/plain": [
       "            customer          sales\n",
       "count  382785.000000  382785.000000\n",
       "mean    15278.340314      20.598134\n",
       "std      1712.037074     213.569099\n",
       "min     12346.000000  -77183.600000\n",
       "25%     13931.000000       4.250000\n",
       "50%     15147.000000      11.700000\n",
       "75%     16778.000000      19.800000\n",
       "max     18287.000000   77183.600000"
      ]
     },
     "execution_count": 8,
     "metadata": {},
     "output_type": "execute_result"
    }
   ],
   "source": [
    "# Visualize data statistics\n",
    "df_sales.describe()"
   ]
  },
  {
   "cell_type": "markdown",
   "id": "161bddc4",
   "metadata": {},
   "source": [
    "### Product Analysis"
   ]
  },
  {
   "cell_type": "code",
   "execution_count": 9,
   "id": "0cd3fc18",
   "metadata": {},
   "outputs": [
    {
     "data": {
      "text/plain": [
       "85123A    0.519090\n",
       "22423     0.479904\n",
       "85099B    0.420340\n",
       "47566     0.361822\n",
       "84879     0.355291\n",
       "20725     0.342490\n",
       "22720     0.309835\n",
       "POST      0.297817\n",
       "23203     0.277963\n",
       "22383     0.276918\n",
       "Name: product, dtype: float64"
      ]
     },
     "execution_count": 9,
     "metadata": {},
     "output_type": "execute_result"
    }
   ],
   "source": [
    "# Visualize product distribution\n",
    "products = 100 * df_sales['product'].value_counts() / df_sales['product'].value_counts().sum()\n",
    "products.head(10)"
   ]
  },
  {
   "cell_type": "code",
   "execution_count": 10,
   "id": "98f7b5aa",
   "metadata": {},
   "outputs": [
    {
     "data": {
      "text/html": [
       "<div>\n",
       "<style scoped>\n",
       "    .dataframe tbody tr th:only-of-type {\n",
       "        vertical-align: middle;\n",
       "    }\n",
       "\n",
       "    .dataframe tbody tr th {\n",
       "        vertical-align: top;\n",
       "    }\n",
       "\n",
       "    .dataframe thead th {\n",
       "        text-align: right;\n",
       "    }\n",
       "</style>\n",
       "<table border=\"1\" class=\"dataframe\">\n",
       "  <thead>\n",
       "    <tr style=\"text-align: right;\">\n",
       "      <th></th>\n",
       "      <th>date</th>\n",
       "      <th>customer</th>\n",
       "      <th>country</th>\n",
       "      <th>sales</th>\n",
       "    </tr>\n",
       "  </thead>\n",
       "  <tbody>\n",
       "    <tr>\n",
       "      <th>0</th>\n",
       "      <td>2016-12-01</td>\n",
       "      <td>17850</td>\n",
       "      <td>United Kingdom</td>\n",
       "      <td>15.30</td>\n",
       "    </tr>\n",
       "    <tr>\n",
       "      <th>1</th>\n",
       "      <td>2016-12-01</td>\n",
       "      <td>17850</td>\n",
       "      <td>United Kingdom</td>\n",
       "      <td>20.34</td>\n",
       "    </tr>\n",
       "    <tr>\n",
       "      <th>2</th>\n",
       "      <td>2016-12-01</td>\n",
       "      <td>17850</td>\n",
       "      <td>United Kingdom</td>\n",
       "      <td>22.00</td>\n",
       "    </tr>\n",
       "    <tr>\n",
       "      <th>3</th>\n",
       "      <td>2016-12-01</td>\n",
       "      <td>17850</td>\n",
       "      <td>United Kingdom</td>\n",
       "      <td>20.34</td>\n",
       "    </tr>\n",
       "    <tr>\n",
       "      <th>4</th>\n",
       "      <td>2016-12-01</td>\n",
       "      <td>17850</td>\n",
       "      <td>United Kingdom</td>\n",
       "      <td>20.34</td>\n",
       "    </tr>\n",
       "    <tr>\n",
       "      <th>...</th>\n",
       "      <td>...</td>\n",
       "      <td>...</td>\n",
       "      <td>...</td>\n",
       "      <td>...</td>\n",
       "    </tr>\n",
       "    <tr>\n",
       "      <th>389163</th>\n",
       "      <td>2017-11-30</td>\n",
       "      <td>15676</td>\n",
       "      <td>United Kingdom</td>\n",
       "      <td>-0.85</td>\n",
       "    </tr>\n",
       "    <tr>\n",
       "      <th>389164</th>\n",
       "      <td>2017-11-30</td>\n",
       "      <td>15676</td>\n",
       "      <td>United Kingdom</td>\n",
       "      <td>-3.29</td>\n",
       "    </tr>\n",
       "    <tr>\n",
       "      <th>389165</th>\n",
       "      <td>2017-11-30</td>\n",
       "      <td>16717</td>\n",
       "      <td>United Kingdom</td>\n",
       "      <td>-1.25</td>\n",
       "    </tr>\n",
       "    <tr>\n",
       "      <th>389166</th>\n",
       "      <td>2017-11-30</td>\n",
       "      <td>16717</td>\n",
       "      <td>United Kingdom</td>\n",
       "      <td>-7.95</td>\n",
       "    </tr>\n",
       "    <tr>\n",
       "      <th>389167</th>\n",
       "      <td>2017-11-30</td>\n",
       "      <td>16717</td>\n",
       "      <td>United Kingdom</td>\n",
       "      <td>-11.25</td>\n",
       "    </tr>\n",
       "  </tbody>\n",
       "</table>\n",
       "<p>382785 rows × 4 columns</p>\n",
       "</div>"
      ],
      "text/plain": [
       "             date  customer         country  sales\n",
       "0      2016-12-01     17850  United Kingdom  15.30\n",
       "1      2016-12-01     17850  United Kingdom  20.34\n",
       "2      2016-12-01     17850  United Kingdom  22.00\n",
       "3      2016-12-01     17850  United Kingdom  20.34\n",
       "4      2016-12-01     17850  United Kingdom  20.34\n",
       "...           ...       ...             ...    ...\n",
       "389163 2017-11-30     15676  United Kingdom  -0.85\n",
       "389164 2017-11-30     15676  United Kingdom  -3.29\n",
       "389165 2017-11-30     16717  United Kingdom  -1.25\n",
       "389166 2017-11-30     16717  United Kingdom  -7.95\n",
       "389167 2017-11-30     16717  United Kingdom -11.25\n",
       "\n",
       "[382785 rows x 4 columns]"
      ]
     },
     "execution_count": 10,
     "metadata": {},
     "output_type": "execute_result"
    }
   ],
   "source": [
    "# Products are uniformly distributed. \n",
    "# Drop 'product' information from the dataset since it won't add any significant contribution to the analysis\n",
    "df_model_data = df_sales.drop(columns=['product'])\n",
    "df_model_data"
   ]
  },
  {
   "cell_type": "markdown",
   "id": "239f6539",
   "metadata": {},
   "source": [
    "### Country Analysis"
   ]
  },
  {
   "cell_type": "code",
   "execution_count": 11,
   "id": "9fa853e4",
   "metadata": {},
   "outputs": [
    {
     "data": {
      "text/html": [
       "<div>\n",
       "<style scoped>\n",
       "    .dataframe tbody tr th:only-of-type {\n",
       "        vertical-align: middle;\n",
       "    }\n",
       "\n",
       "    .dataframe tbody tr th {\n",
       "        vertical-align: top;\n",
       "    }\n",
       "\n",
       "    .dataframe thead th {\n",
       "        text-align: right;\n",
       "    }\n",
       "</style>\n",
       "<table border=\"1\" class=\"dataframe\">\n",
       "  <thead>\n",
       "    <tr style=\"text-align: right;\">\n",
       "      <th></th>\n",
       "      <th>country</th>\n",
       "      <th>count</th>\n",
       "    </tr>\n",
       "  </thead>\n",
       "  <tbody>\n",
       "    <tr>\n",
       "      <th>0</th>\n",
       "      <td>United Kingdom</td>\n",
       "      <td>339649</td>\n",
       "    </tr>\n",
       "    <tr>\n",
       "      <th>1</th>\n",
       "      <td>Germany</td>\n",
       "      <td>9122</td>\n",
       "    </tr>\n",
       "    <tr>\n",
       "      <th>2</th>\n",
       "      <td>France</td>\n",
       "      <td>8106</td>\n",
       "    </tr>\n",
       "    <tr>\n",
       "      <th>3</th>\n",
       "      <td>EIRE</td>\n",
       "      <td>7095</td>\n",
       "    </tr>\n",
       "    <tr>\n",
       "      <th>4</th>\n",
       "      <td>Spain</td>\n",
       "      <td>2457</td>\n",
       "    </tr>\n",
       "    <tr>\n",
       "      <th>5</th>\n",
       "      <td>Netherlands</td>\n",
       "      <td>2278</td>\n",
       "    </tr>\n",
       "    <tr>\n",
       "      <th>6</th>\n",
       "      <td>Belgium</td>\n",
       "      <td>1971</td>\n",
       "    </tr>\n",
       "    <tr>\n",
       "      <th>7</th>\n",
       "      <td>Switzerland</td>\n",
       "      <td>1877</td>\n",
       "    </tr>\n",
       "    <tr>\n",
       "      <th>8</th>\n",
       "      <td>Portugal</td>\n",
       "      <td>1352</td>\n",
       "    </tr>\n",
       "    <tr>\n",
       "      <th>9</th>\n",
       "      <td>Australia</td>\n",
       "      <td>1251</td>\n",
       "    </tr>\n",
       "  </tbody>\n",
       "</table>\n",
       "</div>"
      ],
      "text/plain": [
       "          country   count\n",
       "0  United Kingdom  339649\n",
       "1         Germany    9122\n",
       "2          France    8106\n",
       "3            EIRE    7095\n",
       "4           Spain    2457\n",
       "5     Netherlands    2278\n",
       "6         Belgium    1971\n",
       "7     Switzerland    1877\n",
       "8        Portugal    1352\n",
       "9       Australia    1251"
      ]
     },
     "execution_count": 11,
     "metadata": {},
     "output_type": "execute_result"
    }
   ],
   "source": [
    "# Visualize country distribution\n",
    "countries = df_model_data.country.value_counts().to_frame().reset_index().rename(columns = {'index': 'country',\n",
    "                                                                                           'country': 'count'})\n",
    "countries.head(10)"
   ]
  },
  {
   "cell_type": "code",
   "execution_count": 12,
   "id": "801ce1ff",
   "metadata": {},
   "outputs": [
    {
     "data": {
      "text/plain": [
       "United Kingdom    88.731011\n",
       "Germany            2.383061\n",
       "France             2.117638\n",
       "EIRE               1.853521\n",
       "Spain              0.641875\n",
       "Netherlands        0.595112\n",
       "Belgium            0.514910\n",
       "Switzerland        0.490354\n",
       "Portugal           0.353201\n",
       "Australia          0.326815\n",
       "Name: country, dtype: float64"
      ]
     },
     "execution_count": 12,
     "metadata": {},
     "output_type": "execute_result"
    }
   ],
   "source": [
    "# Visualize the percentage of sales for each country\n",
    "c = 100 * df_sales['country'].value_counts() / df_sales['country'].value_counts().sum()\n",
    "c.head(10)"
   ]
  },
  {
   "cell_type": "code",
   "execution_count": 13,
   "id": "47249c39",
   "metadata": {},
   "outputs": [
    {
     "data": {
      "image/png": "[encoded data removed]",
      "text/plain": [
       "<Figure size 864x576 with 1 Axes>"
      ]
     },
     "metadata": {
      "needs_background": "light"
     },
     "output_type": "display_data"
    }
   ],
   "source": [
    "# Plotting the country distribution\n",
    "df_model_data.country.value_counts().plot(kind='barh', figsize=(12,8)).invert_yaxis()"
   ]
  },
  {
   "cell_type": "code",
   "execution_count": 14,
   "id": "59c1e397",
   "metadata": {},
   "outputs": [
    {
     "data": {
      "text/html": [
       "<div>\n",
       "<style scoped>\n",
       "    .dataframe tbody tr th:only-of-type {\n",
       "        vertical-align: middle;\n",
       "    }\n",
       "\n",
       "    .dataframe tbody tr th {\n",
       "        vertical-align: top;\n",
       "    }\n",
       "\n",
       "    .dataframe thead th {\n",
       "        text-align: right;\n",
       "    }\n",
       "</style>\n",
       "<table border=\"1\" class=\"dataframe\">\n",
       "  <thead>\n",
       "    <tr style=\"text-align: right;\">\n",
       "      <th></th>\n",
       "      <th>date</th>\n",
       "      <th>customer</th>\n",
       "      <th>sales</th>\n",
       "    </tr>\n",
       "  </thead>\n",
       "  <tbody>\n",
       "    <tr>\n",
       "      <th>0</th>\n",
       "      <td>2016-12-01</td>\n",
       "      <td>17850</td>\n",
       "      <td>15.30</td>\n",
       "    </tr>\n",
       "    <tr>\n",
       "      <th>1</th>\n",
       "      <td>2016-12-01</td>\n",
       "      <td>17850</td>\n",
       "      <td>20.34</td>\n",
       "    </tr>\n",
       "    <tr>\n",
       "      <th>2</th>\n",
       "      <td>2016-12-01</td>\n",
       "      <td>17850</td>\n",
       "      <td>22.00</td>\n",
       "    </tr>\n",
       "    <tr>\n",
       "      <th>3</th>\n",
       "      <td>2016-12-01</td>\n",
       "      <td>17850</td>\n",
       "      <td>20.34</td>\n",
       "    </tr>\n",
       "    <tr>\n",
       "      <th>4</th>\n",
       "      <td>2016-12-01</td>\n",
       "      <td>17850</td>\n",
       "      <td>20.34</td>\n",
       "    </tr>\n",
       "    <tr>\n",
       "      <th>...</th>\n",
       "      <td>...</td>\n",
       "      <td>...</td>\n",
       "      <td>...</td>\n",
       "    </tr>\n",
       "    <tr>\n",
       "      <th>389163</th>\n",
       "      <td>2017-11-30</td>\n",
       "      <td>15676</td>\n",
       "      <td>-0.85</td>\n",
       "    </tr>\n",
       "    <tr>\n",
       "      <th>389164</th>\n",
       "      <td>2017-11-30</td>\n",
       "      <td>15676</td>\n",
       "      <td>-3.29</td>\n",
       "    </tr>\n",
       "    <tr>\n",
       "      <th>389165</th>\n",
       "      <td>2017-11-30</td>\n",
       "      <td>16717</td>\n",
       "      <td>-1.25</td>\n",
       "    </tr>\n",
       "    <tr>\n",
       "      <th>389166</th>\n",
       "      <td>2017-11-30</td>\n",
       "      <td>16717</td>\n",
       "      <td>-7.95</td>\n",
       "    </tr>\n",
       "    <tr>\n",
       "      <th>389167</th>\n",
       "      <td>2017-11-30</td>\n",
       "      <td>16717</td>\n",
       "      <td>-11.25</td>\n",
       "    </tr>\n",
       "  </tbody>\n",
       "</table>\n",
       "<p>382785 rows × 3 columns</p>\n",
       "</div>"
      ],
      "text/plain": [
       "             date  customer  sales\n",
       "0      2016-12-01     17850  15.30\n",
       "1      2016-12-01     17850  20.34\n",
       "2      2016-12-01     17850  22.00\n",
       "3      2016-12-01     17850  20.34\n",
       "4      2016-12-01     17850  20.34\n",
       "...           ...       ...    ...\n",
       "389163 2017-11-30     15676  -0.85\n",
       "389164 2017-11-30     15676  -3.29\n",
       "389165 2017-11-30     16717  -1.25\n",
       "389166 2017-11-30     16717  -7.95\n",
       "389167 2017-11-30     16717 -11.25\n",
       "\n",
       "[382785 rows x 3 columns]"
      ]
     },
     "execution_count": 14,
     "metadata": {},
     "output_type": "execute_result"
    }
   ],
   "source": [
    "# Country distribution is highly skewed\n",
    "# Drop 'country' information from the dataset since it won't add any significant contribution to the analysis\n",
    "df_model_data.drop(columns = ['country'], inplace=True)\n",
    "df_model_data"
   ]
  },
  {
   "cell_type": "markdown",
   "id": "d1ec1b53",
   "metadata": {},
   "source": [
    "### Aggregating the dataset"
   ]
  },
  {
   "cell_type": "code",
   "execution_count": 15,
   "id": "6b202ee2",
   "metadata": {},
   "outputs": [],
   "source": [
    "# Keep only year & month information\n",
    "# Drop the daily detail\n",
    "df_model_data['date'] = df_model_data['date'].dt.strftime('%Y-%m')"
   ]
  },
  {
   "cell_type": "code",
   "execution_count": 16,
   "id": "1179d87b",
   "metadata": {},
   "outputs": [
    {
     "data": {
      "text/html": [
       "<div>\n",
       "<style scoped>\n",
       "    .dataframe tbody tr th:only-of-type {\n",
       "        vertical-align: middle;\n",
       "    }\n",
       "\n",
       "    .dataframe tbody tr th {\n",
       "        vertical-align: top;\n",
       "    }\n",
       "\n",
       "    .dataframe thead th {\n",
       "        text-align: right;\n",
       "    }\n",
       "</style>\n",
       "<table border=\"1\" class=\"dataframe\">\n",
       "  <thead>\n",
       "    <tr style=\"text-align: right;\">\n",
       "      <th></th>\n",
       "      <th>date</th>\n",
       "      <th>customer</th>\n",
       "      <th>sales</th>\n",
       "    </tr>\n",
       "  </thead>\n",
       "  <tbody>\n",
       "    <tr>\n",
       "      <th>0</th>\n",
       "      <td>2016-12</td>\n",
       "      <td>12347</td>\n",
       "      <td>7.117900e+02</td>\n",
       "    </tr>\n",
       "    <tr>\n",
       "      <th>1</th>\n",
       "      <td>2016-12</td>\n",
       "      <td>12348</td>\n",
       "      <td>8.928000e+02</td>\n",
       "    </tr>\n",
       "    <tr>\n",
       "      <th>2</th>\n",
       "      <td>2016-12</td>\n",
       "      <td>12370</td>\n",
       "      <td>1.864270e+03</td>\n",
       "    </tr>\n",
       "    <tr>\n",
       "      <th>3</th>\n",
       "      <td>2016-12</td>\n",
       "      <td>12377</td>\n",
       "      <td>1.001520e+03</td>\n",
       "    </tr>\n",
       "    <tr>\n",
       "      <th>4</th>\n",
       "      <td>2016-12</td>\n",
       "      <td>12383</td>\n",
       "      <td>6.007200e+02</td>\n",
       "    </tr>\n",
       "    <tr>\n",
       "      <th>...</th>\n",
       "      <td>...</td>\n",
       "      <td>...</td>\n",
       "      <td>...</td>\n",
       "    </tr>\n",
       "    <tr>\n",
       "      <th>12984</th>\n",
       "      <td>2017-11</td>\n",
       "      <td>18263</td>\n",
       "      <td>3.996800e+02</td>\n",
       "    </tr>\n",
       "    <tr>\n",
       "      <th>12985</th>\n",
       "      <td>2017-11</td>\n",
       "      <td>18270</td>\n",
       "      <td>1.712000e+02</td>\n",
       "    </tr>\n",
       "    <tr>\n",
       "      <th>12986</th>\n",
       "      <td>2017-11</td>\n",
       "      <td>18274</td>\n",
       "      <td>-1.598721e-14</td>\n",
       "    </tr>\n",
       "    <tr>\n",
       "      <th>12987</th>\n",
       "      <td>2017-11</td>\n",
       "      <td>18276</td>\n",
       "      <td>-6.250000e+00</td>\n",
       "    </tr>\n",
       "    <tr>\n",
       "      <th>12988</th>\n",
       "      <td>2017-11</td>\n",
       "      <td>18283</td>\n",
       "      <td>6.377100e+02</td>\n",
       "    </tr>\n",
       "  </tbody>\n",
       "</table>\n",
       "<p>12989 rows × 3 columns</p>\n",
       "</div>"
      ],
      "text/plain": [
       "          date  customer         sales\n",
       "0      2016-12     12347  7.117900e+02\n",
       "1      2016-12     12348  8.928000e+02\n",
       "2      2016-12     12370  1.864270e+03\n",
       "3      2016-12     12377  1.001520e+03\n",
       "4      2016-12     12383  6.007200e+02\n",
       "...        ...       ...           ...\n",
       "12984  2017-11     18263  3.996800e+02\n",
       "12985  2017-11     18270  1.712000e+02\n",
       "12986  2017-11     18274 -1.598721e-14\n",
       "12987  2017-11     18276 -6.250000e+00\n",
       "12988  2017-11     18283  6.377100e+02\n",
       "\n",
       "[12989 rows x 3 columns]"
      ]
     },
     "execution_count": 16,
     "metadata": {},
     "output_type": "execute_result"
    }
   ],
   "source": [
    "# Aggregating 'sales' information and resetting the index\n",
    "df_model_data = df_model_data.groupby([df_model_data['date'], 'customer']).sum()\n",
    "\n",
    "df_model_data = df_model_data.reset_index()\n",
    "df_model_data"
   ]
  },
  {
   "cell_type": "markdown",
   "id": "07d47ed2",
   "metadata": {},
   "source": [
    "The dataset is ready for further advanced analysis."
   ]
  }
 ],
 "metadata": {
  "kernelspec": {
   "display_name": "Python 3",
   "language": "python",
   "name": "python3"
  },
  "language_info": {
   "codemirror_mode": {
    "name": "ipython",
    "version": 3
   },
   "file_extension": ".py",
   "mimetype": "text/x-python",
   "name": "python",
   "nbconvert_exporter": "python",
   "pygments_lexer": "ipython3",
   "version": "3.8.8"
  }
 },
 "nbformat": 4,
 "nbformat_minor": 5
}
